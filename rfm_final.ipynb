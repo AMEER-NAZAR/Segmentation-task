{
 "cells": [
  {
   "cell_type": "code",
   "execution_count": 1,
   "metadata": {},
   "outputs": [],
   "source": [
    "import pandas as pd"
   ]
  },
  {
   "cell_type": "code",
   "execution_count": 2,
   "metadata": {
    "execution": {
     "iopub.execute_input": "2025-02-03T06:04:32.272907Z",
     "iopub.status.busy": "2025-02-03T06:04:32.272461Z",
     "iopub.status.idle": "2025-02-03T06:04:32.738408Z",
     "shell.execute_reply": "2025-02-03T06:04:32.737228Z",
     "shell.execute_reply.started": "2025-02-03T06:04:32.272877Z"
    },
    "trusted": true
   },
   "outputs": [],
   "source": [
    "# Load the dataset\n",
    "df = pd.read_csv('transaction_data.csv')"
   ]
  },
  {
   "cell_type": "code",
   "execution_count": 3,
   "metadata": {
    "execution": {
     "iopub.execute_input": "2025-02-03T06:04:51.752332Z",
     "iopub.status.busy": "2025-02-03T06:04:51.751530Z",
     "iopub.status.idle": "2025-02-03T06:04:51.778947Z",
     "shell.execute_reply": "2025-02-03T06:04:51.777820Z",
     "shell.execute_reply.started": "2025-02-03T06:04:51.752276Z"
    },
    "trusted": true
   },
   "outputs": [],
   "source": [
    "# Convert DATE column to datetime format\n",
    "df[\"DATE\"] = pd.to_datetime(df[\"DATE\"], origin=\"1899-12-30\", unit=\"D\")"
   ]
  },
  {
   "cell_type": "code",
   "execution_count": 4,
   "metadata": {
    "execution": {
     "iopub.execute_input": "2025-02-03T06:05:28.268787Z",
     "iopub.status.busy": "2025-02-03T06:05:28.268336Z",
     "iopub.status.idle": "2025-02-03T06:05:28.276857Z",
     "shell.execute_reply": "2025-02-03T06:05:28.275727Z",
     "shell.execute_reply.started": "2025-02-03T06:05:28.268752Z"
    },
    "trusted": true
   },
   "outputs": [],
   "source": [
    "# Define snapshot date (1 day after the last transaction)\n",
    "snapshot_date = df[\"DATE\"].max() + pd.Timedelta(days=1)"
   ]
  },
  {
   "cell_type": "code",
   "execution_count": 5,
   "metadata": {
    "execution": {
     "iopub.execute_input": "2025-02-03T06:05:59.635994Z",
     "iopub.status.busy": "2025-02-03T06:05:59.635541Z",
     "iopub.status.idle": "2025-02-03T06:06:06.312309Z",
     "shell.execute_reply": "2025-02-03T06:06:06.311403Z",
     "shell.execute_reply.started": "2025-02-03T06:05:59.635951Z"
    },
    "trusted": true
   },
   "outputs": [],
   "source": [
    "\n",
    "#Calculate RFM metrics\n",
    "rfm_df = df.groupby(\"LYLTY_CARD_NBR\").agg(\n",
    "    Recency=(\"DATE\", lambda x: (snapshot_date - x.max()).days),\n",
    "    Frequency=(\"TXN_ID\", \"nunique\"),\n",
    "    Monetary=(\"TOT_SALES\", \"sum\")\n",
    ").reset_index()"
   ]
  },
  {
   "cell_type": "code",
   "execution_count": 6,
   "metadata": {
    "execution": {
     "iopub.execute_input": "2025-02-03T06:06:21.901788Z",
     "iopub.status.busy": "2025-02-03T06:06:21.901330Z",
     "iopub.status.idle": "2025-02-03T06:06:21.949366Z",
     "shell.execute_reply": "2025-02-03T06:06:21.948401Z",
     "shell.execute_reply.started": "2025-02-03T06:06:21.901755Z"
    },
    "trusted": true
   },
   "outputs": [],
   "source": [
    "# Assign RFM scores (1 to 5) using quantiles\n",
    "rfm_df[\"R_Score\"] = pd.qcut(rfm_df[\"Recency\"], 5, labels=[5, 4, 3, 2, 1])\n",
    "rfm_df[\"F_Score\"] = pd.qcut(rfm_df[\"Frequency\"].rank(method=\"first\"), 5, labels=[1, 2, 3, 4, 5])\n",
    "rfm_df[\"M_Score\"] = pd.qcut(rfm_df[\"Monetary\"], 5, labels=[1, 2, 3, 4, 5])"
   ]
  },
  {
   "cell_type": "code",
   "execution_count": 7,
   "metadata": {
    "execution": {
     "iopub.execute_input": "2025-02-03T06:06:35.198379Z",
     "iopub.status.busy": "2025-02-03T06:06:35.198036Z",
     "iopub.status.idle": "2025-02-03T06:06:35.250978Z",
     "shell.execute_reply": "2025-02-03T06:06:35.249870Z",
     "shell.execute_reply.started": "2025-02-03T06:06:35.198354Z"
    },
    "trusted": true
   },
   "outputs": [],
   "source": [
    "# Combine RFM scores into a single RFM Score\n",
    "rfm_df[\"RFM_Score\"] = rfm_df[\"R_Score\"].astype(str) + rfm_df[\"F_Score\"].astype(str) + rfm_df[\"M_Score\"].astype(str)"
   ]
  },
  {
   "cell_type": "code",
   "execution_count": 8,
   "metadata": {
    "execution": {
     "iopub.execute_input": "2025-02-03T06:06:52.578849Z",
     "iopub.status.busy": "2025-02-03T06:06:52.578457Z",
     "iopub.status.idle": "2025-02-03T06:06:52.585391Z",
     "shell.execute_reply": "2025-02-03T06:06:52.584101Z",
     "shell.execute_reply.started": "2025-02-03T06:06:52.578822Z"
    },
    "trusted": true
   },
   "outputs": [],
   "source": [
    "# Define customer segmentation function\n",
    "def segment_customer(rfm):\n",
    "    if rfm[\"RFM_Score\"] in [\"555\", \"554\", \"544\", \"545\", \"543\"]:\n",
    "        return \"Best Customers\"\n",
    "    elif rfm[\"RFM_Score\"] in [\"444\", \"445\", \"433\", \"432\"]:\n",
    "        return \"Loyal Customers\"\n",
    "    elif rfm[\"RFM_Score\"] in [\"311\", \"211\", \"111\"]:\n",
    "        return \"Lost Customers\"\n",
    "    elif rfm[\"RFM_Score\"] in [\"511\", \"522\", \"521\"]:\n",
    "        return \"New Customers\"\n",
    "    elif rfm[\"RFM_Score\"] in [\"333\", \"322\", \"221\"]:\n",
    "        return \"Promising Customers\"\n",
    "    else:\n",
    "        return \"moderate\""
   ]
  },
  {
   "cell_type": "code",
   "execution_count": 9,
   "metadata": {
    "execution": {
     "iopub.execute_input": "2025-02-03T06:07:08.817789Z",
     "iopub.status.busy": "2025-02-03T06:07:08.817305Z",
     "iopub.status.idle": "2025-02-03T06:07:09.840417Z",
     "shell.execute_reply": "2025-02-03T06:07:09.839258Z",
     "shell.execute_reply.started": "2025-02-03T06:07:08.817749Z"
    },
    "trusted": true
   },
   "outputs": [],
   "source": [
    "# Apply segmentation\n",
    "rfm_df[\"Segment\"] = rfm_df.apply(segment_customer, axis=1)"
   ]
  },
  {
   "cell_type": "code",
   "execution_count": 10,
   "metadata": {
    "execution": {
     "iopub.execute_input": "2025-02-03T06:07:26.836042Z",
     "iopub.status.busy": "2025-02-03T06:07:26.835509Z",
     "iopub.status.idle": "2025-02-03T06:07:26.854305Z",
     "shell.execute_reply": "2025-02-03T06:07:26.852343Z",
     "shell.execute_reply.started": "2025-02-03T06:07:26.835989Z"
    },
    "trusted": true
   },
   "outputs": [
    {
     "name": "stdout",
     "output_type": "stream",
     "text": [
      "   LYLTY_CARD_NBR  Recency  Frequency  Monetary R_Score F_Score M_Score  \\\n",
      "0            1000      257          1       6.0       1       1       1   \n",
      "1            1002      288          1       2.7       1       1       1   \n",
      "2            1003      115          2       6.6       2       2       1   \n",
      "3            1004      241          1       1.9       1       1       1   \n",
      "4            1005      185          1       2.8       2       1       1   \n",
      "\n",
      "  RFM_Score              Segment  \n",
      "0       111       Lost Customers  \n",
      "1       111       Lost Customers  \n",
      "2       221  Promising Customers  \n",
      "3       111       Lost Customers  \n",
      "4       211       Lost Customers  \n"
     ]
    }
   ],
   "source": [
    "# Display the final RFM table\n",
    "print(rfm_df.head())"
   ]
  },
  {
   "cell_type": "code",
   "execution_count": 11,
   "metadata": {
    "execution": {
     "iopub.execute_input": "2025-02-03T06:07:47.844805Z",
     "iopub.status.busy": "2025-02-03T06:07:47.844440Z",
     "iopub.status.idle": "2025-02-03T06:07:47.867322Z",
     "shell.execute_reply": "2025-02-03T06:07:47.866262Z",
     "shell.execute_reply.started": "2025-02-03T06:07:47.844778Z"
    },
    "trusted": true
   },
   "outputs": [
    {
     "data": {
      "text/html": [
       "<div>\n",
       "<style scoped>\n",
       "    .dataframe tbody tr th:only-of-type {\n",
       "        vertical-align: middle;\n",
       "    }\n",
       "\n",
       "    .dataframe tbody tr th {\n",
       "        vertical-align: top;\n",
       "    }\n",
       "\n",
       "    .dataframe thead th {\n",
       "        text-align: right;\n",
       "    }\n",
       "</style>\n",
       "<table border=\"1\" class=\"dataframe\">\n",
       "  <thead>\n",
       "    <tr style=\"text-align: right;\">\n",
       "      <th></th>\n",
       "      <th>LYLTY_CARD_NBR</th>\n",
       "      <th>Recency</th>\n",
       "      <th>Frequency</th>\n",
       "      <th>Monetary</th>\n",
       "      <th>R_Score</th>\n",
       "      <th>F_Score</th>\n",
       "      <th>M_Score</th>\n",
       "      <th>RFM_Score</th>\n",
       "      <th>Segment</th>\n",
       "    </tr>\n",
       "  </thead>\n",
       "  <tbody>\n",
       "    <tr>\n",
       "      <th>0</th>\n",
       "      <td>1000</td>\n",
       "      <td>257</td>\n",
       "      <td>1</td>\n",
       "      <td>6.0</td>\n",
       "      <td>1</td>\n",
       "      <td>1</td>\n",
       "      <td>1</td>\n",
       "      <td>111</td>\n",
       "      <td>Lost Customers</td>\n",
       "    </tr>\n",
       "    <tr>\n",
       "      <th>1</th>\n",
       "      <td>1002</td>\n",
       "      <td>288</td>\n",
       "      <td>1</td>\n",
       "      <td>2.7</td>\n",
       "      <td>1</td>\n",
       "      <td>1</td>\n",
       "      <td>1</td>\n",
       "      <td>111</td>\n",
       "      <td>Lost Customers</td>\n",
       "    </tr>\n",
       "    <tr>\n",
       "      <th>2</th>\n",
       "      <td>1003</td>\n",
       "      <td>115</td>\n",
       "      <td>2</td>\n",
       "      <td>6.6</td>\n",
       "      <td>2</td>\n",
       "      <td>2</td>\n",
       "      <td>1</td>\n",
       "      <td>221</td>\n",
       "      <td>Promising Customers</td>\n",
       "    </tr>\n",
       "    <tr>\n",
       "      <th>3</th>\n",
       "      <td>1004</td>\n",
       "      <td>241</td>\n",
       "      <td>1</td>\n",
       "      <td>1.9</td>\n",
       "      <td>1</td>\n",
       "      <td>1</td>\n",
       "      <td>1</td>\n",
       "      <td>111</td>\n",
       "      <td>Lost Customers</td>\n",
       "    </tr>\n",
       "    <tr>\n",
       "      <th>4</th>\n",
       "      <td>1005</td>\n",
       "      <td>185</td>\n",
       "      <td>1</td>\n",
       "      <td>2.8</td>\n",
       "      <td>2</td>\n",
       "      <td>1</td>\n",
       "      <td>1</td>\n",
       "      <td>211</td>\n",
       "      <td>Lost Customers</td>\n",
       "    </tr>\n",
       "    <tr>\n",
       "      <th>...</th>\n",
       "      <td>...</td>\n",
       "      <td>...</td>\n",
       "      <td>...</td>\n",
       "      <td>...</td>\n",
       "      <td>...</td>\n",
       "      <td>...</td>\n",
       "      <td>...</td>\n",
       "      <td>...</td>\n",
       "      <td>...</td>\n",
       "    </tr>\n",
       "    <tr>\n",
       "      <th>72632</th>\n",
       "      <td>2370651</td>\n",
       "      <td>332</td>\n",
       "      <td>1</td>\n",
       "      <td>13.0</td>\n",
       "      <td>1</td>\n",
       "      <td>2</td>\n",
       "      <td>2</td>\n",
       "      <td>122</td>\n",
       "      <td>moderate</td>\n",
       "    </tr>\n",
       "    <tr>\n",
       "      <th>72633</th>\n",
       "      <td>2370701</td>\n",
       "      <td>205</td>\n",
       "      <td>1</td>\n",
       "      <td>7.2</td>\n",
       "      <td>1</td>\n",
       "      <td>2</td>\n",
       "      <td>1</td>\n",
       "      <td>121</td>\n",
       "      <td>moderate</td>\n",
       "    </tr>\n",
       "    <tr>\n",
       "      <th>72634</th>\n",
       "      <td>2370751</td>\n",
       "      <td>273</td>\n",
       "      <td>1</td>\n",
       "      <td>9.2</td>\n",
       "      <td>1</td>\n",
       "      <td>2</td>\n",
       "      <td>2</td>\n",
       "      <td>122</td>\n",
       "      <td>moderate</td>\n",
       "    </tr>\n",
       "    <tr>\n",
       "      <th>72635</th>\n",
       "      <td>2370961</td>\n",
       "      <td>247</td>\n",
       "      <td>2</td>\n",
       "      <td>18.6</td>\n",
       "      <td>1</td>\n",
       "      <td>3</td>\n",
       "      <td>3</td>\n",
       "      <td>133</td>\n",
       "      <td>moderate</td>\n",
       "    </tr>\n",
       "    <tr>\n",
       "      <th>72636</th>\n",
       "      <td>2373711</td>\n",
       "      <td>199</td>\n",
       "      <td>1</td>\n",
       "      <td>11.4</td>\n",
       "      <td>1</td>\n",
       "      <td>2</td>\n",
       "      <td>2</td>\n",
       "      <td>122</td>\n",
       "      <td>moderate</td>\n",
       "    </tr>\n",
       "  </tbody>\n",
       "</table>\n",
       "<p>72637 rows × 9 columns</p>\n",
       "</div>"
      ],
      "text/plain": [
       "       LYLTY_CARD_NBR  Recency  Frequency  Monetary R_Score F_Score M_Score  \\\n",
       "0                1000      257          1       6.0       1       1       1   \n",
       "1                1002      288          1       2.7       1       1       1   \n",
       "2                1003      115          2       6.6       2       2       1   \n",
       "3                1004      241          1       1.9       1       1       1   \n",
       "4                1005      185          1       2.8       2       1       1   \n",
       "...               ...      ...        ...       ...     ...     ...     ...   \n",
       "72632         2370651      332          1      13.0       1       2       2   \n",
       "72633         2370701      205          1       7.2       1       2       1   \n",
       "72634         2370751      273          1       9.2       1       2       2   \n",
       "72635         2370961      247          2      18.6       1       3       3   \n",
       "72636         2373711      199          1      11.4       1       2       2   \n",
       "\n",
       "      RFM_Score              Segment  \n",
       "0           111       Lost Customers  \n",
       "1           111       Lost Customers  \n",
       "2           221  Promising Customers  \n",
       "3           111       Lost Customers  \n",
       "4           211       Lost Customers  \n",
       "...         ...                  ...  \n",
       "72632       122             moderate  \n",
       "72633       121             moderate  \n",
       "72634       122             moderate  \n",
       "72635       133             moderate  \n",
       "72636       122             moderate  \n",
       "\n",
       "[72637 rows x 9 columns]"
      ]
     },
     "execution_count": 11,
     "metadata": {},
     "output_type": "execute_result"
    }
   ],
   "source": [
    "rfm_df"
   ]
  },
  {
   "cell_type": "code",
   "execution_count": 12,
   "metadata": {},
   "outputs": [
    {
     "data": {
      "text/plain": [
       "Segment\n",
       "moderate               42958\n",
       "Best Customers          9566\n",
       "Lost Customers          8537\n",
       "Loyal Customers         5520\n",
       "Promising Customers     4317\n",
       "New Customers           1739\n",
       "Name: count, dtype: int64"
      ]
     },
     "execution_count": 12,
     "metadata": {},
     "output_type": "execute_result"
    }
   ],
   "source": [
    "rfm_df['Segment'].value_counts()"
   ]
  },
  {
   "cell_type": "code",
   "execution_count": null,
   "metadata": {},
   "outputs": [],
   "source": []
  }
 ],
 "metadata": {
  "kaggle": {
   "accelerator": "none",
   "dataSources": [
    {
     "datasetId": 6592912,
     "sourceId": 10647851,
     "sourceType": "datasetVersion"
    }
   ],
   "dockerImageVersionId": 30839,
   "isGpuEnabled": false,
   "isInternetEnabled": false,
   "language": "python",
   "sourceType": "notebook"
  },
  "kernelspec": {
   "display_name": "Python 3",
   "language": "python",
   "name": "python3"
  },
  "language_info": {
   "codemirror_mode": {
    "name": "ipython",
    "version": 3
   },
   "file_extension": ".py",
   "mimetype": "text/x-python",
   "name": "python",
   "nbconvert_exporter": "python",
   "pygments_lexer": "ipython3",
   "version": "3.12.0"
  }
 },
 "nbformat": 4,
 "nbformat_minor": 4
}
